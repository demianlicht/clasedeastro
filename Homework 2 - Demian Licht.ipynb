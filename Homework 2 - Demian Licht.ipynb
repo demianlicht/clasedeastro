{
 "cells": [
  {
   "cell_type": "code",
   "execution_count": null,
   "metadata": {
    "collapsed": true
   },
   "outputs": [],
   "source": [
    "# Generadores\n",
    "Una serie de problemas para ser resueltos con generadores. Seguramente necesitaras repasar un poco generadores, pero es parte del aprendizaje.  Son cinco pasos en total.  Cada paso es independiente del siguiente, pero puede resultar útil lo que has hecho en el paso anterior.\n",
    "En cada bloque, debes definir la función para que el resto del código ya escrito funcione y genere el output esperado.\n",
    "Copia el notebook en local, modifícalo (pruebalo muchas veces) y cuando lo tengas listo, súbelo al campus virtual o a tu propio github y comparte el enlace en la tarea."
   ]
  },
  {
   "cell_type": "markdown",
   "metadata": {},
   "source": [
    "Parte 1: Crea un generador que calcule la media corriente (running average)"
   ]
  },
  {
   "cell_type": "code",
   "execution_count": 1,
   "metadata": {},
   "outputs": [
    {
     "name": "stdout",
     "output_type": "stream",
     "text": [
      "División por cero a ocurrido\n",
      "sent:   7, new average:   7.00\n",
      "sent:  13, new average:  10.00\n",
      "sent:  17, new average:  12.33\n",
      "sent: 231, new average:  67.00\n",
      "sent:  12, new average:  56.00\n",
      "sent:   8, new average:  48.00\n",
      "sent:   3, new average:  41.57\n"
     ]
    }
   ],
   "source": [
    "def running_average():\n",
    "    \n",
    "    values = [0, 7, 13, 17, 231, 12, 8, 3]\n",
    "\n",
    "    sum_is = 0\n",
    "    for i in range(len(values)):   \n",
    "        if i == 0:\n",
    "            print(\"Division by 0\")\n",
    "            yield(0)\n",
    "        else: \n",
    "            sum_is = sum_is + values[i]\n",
    "            avg = sum_is/(i)\n",
    "            \n",
    "            yield(avg)\n",
    "     ###   \n",
    "    \n",
    "ra = running_average() \n",
    "next(ra)                \n",
    "for value in [7, 13, 17, 231, 12, 8, 3]:\n",
    "    out_str = \"sent: {val:3d}, new average: {avg:6.2f}\"\n",
    "    print(out_str.format(val=value, avg=ra.send(value)))  "
   ]
  },
  {
   "cell_type": "code",
   "execution_count": null,
   "metadata": {
    "collapsed": true
   },
   "outputs": [],
   "source": []
  },
  {
   "cell_type": "markdown",
   "metadata": {},
   "source": [
    "Esta es la salida esperada de tu programa<br>\n",
    "sent:   7, new average:   7.00<br>\n",
    "sent:  13, new average:  10.00<br>\n",
    "sent:  17, new average:  12.33<br>\n",
    "sent: 231, new average:  67.00<br>\n",
    "sent:  12, new average:  56.00<br>\n",
    "sent:   8, new average:  48.00<br>\n",
    "sent:   3, new average:  41.57"
   ]
  },
  {
   "cell_type": "markdown",
   "metadata": {},
   "source": [
    "Parte 2: escribe un generador \"trange\", que genere una secuencia de tuplas de tiempo desde un \"inicio\" hasta un \"final\" incrementados por un \"paso\". Una tupla de tiempo es una tupla de 3 enteros: (horas,minutos,segundos)"
   ]
  },
  {
   "cell_type": "code",
   "execution_count": 1,
   "metadata": {},
   "outputs": [
    {
     "name": "stdout",
     "output_type": "stream",
     "text": [
      "(12, 15, 10)\n",
      "(12, 30, 22)\n",
      "(12, 45, 34)\n",
      "(13, 0, 46)\n",
      "(13, 15, 58)\n",
      "(13, 31, 10)\n",
      "(13, 46, 22)\n",
      "(14, 1, 34)\n"
     ]
    }
   ],
   "source": [
    "def trange(start, stop, step):\n",
    "  \n",
    "    \n",
    "    \n",
    "\n",
    "    tsum = start \n",
    "    lsum = start \n",
    "    \n",
    " \n",
    "    subt    = [0,0,0]\n",
    "    stopl    = list(stop)\n",
    "    stepl    = list(step)\n",
    "    subt[0] = stopl[0] - stepl[0]\n",
    "    subt[1] = stopl[1] - stepl[1]\n",
    "    subt[2] = stopl[2] - stepl[2]\n",
    "    restat   = tuple(subt) \n",
    "\n",
    "    print(start) \n",
    "    while tsum<=subt: \n",
    "        stepl  = list(step)   \n",
    "        lsum = [lsum, stepl]\n",
    "        lsum = [sum(i) for i in zip(*lsum)]  \n",
    "        if lsum[2] == 60: \n",
    "            lsum[1] = lsum[1] + 1\n",
    "            lsum[2] = 0           \n",
    "        elif lsum[2]>60: \n",
    "            lsum[2] = lsum[2] - 60\n",
    "            lsum[1] = lsum[1] + 1\n",
    "        if lsum[1] == 60:\n",
    "            lsum[0] = lsum[0] + 1\n",
    "            lsum[1] = 0      \n",
    "        elif lsum[1] >60:\n",
    "            lsum[1] = -60 + lsum[1]\n",
    "            lsum[0] = lsum[0] + 1\n",
    "        if lsum[0] >= 60: \n",
    "            lsum[0] == 0 \n",
    "            lsum[1] == 0\n",
    "            lsum[2] == 0\n",
    "\n",
    "        tsum = tuple(lsum) \n",
    "        yield(tsum)\n",
    "    \n",
    "    \n",
    "    \n",
    "for time in trange((12,15,10),(14,10,10),(0,15,12)):\n",
    "    print(time)\n",
    "    "
   ]
  },
  {
   "cell_type": "markdown",
   "metadata": {},
   "source": [
    "Salida esperada:<br>\n",
    "(12, 15, 10)<br>\n",
    "(12, 30, 22)<br>\n",
    "(12, 45, 34)<br>\n",
    "(13, 0, 46)<br>\n",
    "(13, 15, 58)<br>\n",
    "(13, 31, 10)<br>\n",
    "(13, 46, 22)<br>\n",
    "(14, 1, 34)"
   ]
  },
  {
   "cell_type": "raw",
   "metadata": {},
   "source": [
    "Parte 3: modifique la versión de trange para que pueda recibir un mensaje y resetear el valor de inicio."
   ]
  },
  {
   "cell_type": "code",
   "execution_count": 3,
   "metadata": {},
   "outputs": [
    {
     "name": "stdout",
     "output_type": "stream",
     "text": [
      "(10, 10, 10)\n",
      "(10, 25, 22)\n",
      "(10, 40, 34)\n",
      "(10, 55, 46)\n",
      "(8, 5, 50)\n",
      "(8, 21, 2)\n",
      "(8, 36, 14)\n",
      "(8, 51, 26)\n",
      "(9, 6, 38)\n"
     ]
    }
   ],
   "source": [
    "def rtrange(start, stop, step):\n",
    "    \n",
    "    \n",
    "    tsum = start \n",
    "    lsum = start \n",
    "    \n",
    "\n",
    "    subt    = [0,0,0]\n",
    "    stopl    = list(stop)\n",
    "    stepl    = list(step)\n",
    "    subt[0] = stopl[0] - stepl[0]\n",
    "    subt[1] = stopl[1] - stepl[1]\n",
    "    subt[2] = stopl[2] - stepl[2]\n",
    "    restat   = tuple(subt) \n",
    "\n",
    "    print(start) \n",
    "    while tsum<=subt: \n",
    "    \n",
    "        stepl  = list(step)   \n",
    "        lsum = [lsum, stepl]\n",
    "        lsum = [sum(i) for i in zip(*lsum)]  \n",
    "        if lsum[2] == 60:\n",
    "            lsum[1] = lsum[1] + 1\n",
    "            lsum[2] = 0           \n",
    "        elif lsum[2]>60: \n",
    "            lsum[2] = lsum[2] - 60\n",
    "            lsum[1] = lsum[1] + 1\n",
    "        if lsum[1] == 60:\n",
    "            lsum[0] = lsum[0] + 1\n",
    "            lsum[1] = 0      \n",
    "        elif lsum[1] >60:\n",
    "            lsum[1] = -60 + lsum[1]\n",
    "            lsum[0] = lsum[0] + 1\n",
    "        if lsum[0] >= 23: \n",
    "            lsum[0] == 0 \n",
    "            lsum[1] == 0\n",
    "            lsum[2] == 0\n",
    "\n",
    "        tsum = tuple(lsum) \n",
    "        \n",
    "        \n",
    "        new_tsum = yield(tsum)\n",
    "        if(new_tsum != None):\n",
    "            lsum = new_tsum\n",
    "            print(lsum)\n",
    "    \n",
    "    ####\n",
    "    \n",
    "ts = rtrange((10, 10, 10), (13, 50, 15), (0, 15, 12) )  \n",
    "for _ in range(3):\n",
    "    print(next(ts))\n",
    "        \n",
    "print(ts.send((8, 5, 50)))\n",
    "for _ in range(3):\n",
    "    print(next(ts))\n",
    "    "
   ]
  },
  {
   "cell_type": "markdown",
   "metadata": {},
   "source": [
    "Salida esperada:<br>\n",
    "(10, 10, 10)<br>\n",
    "(10, 25, 22)<br>\n",
    "(10, 40, 34)<br>\n",
    "(8, 5, 50)<br>\n",
    "(8, 21, 2)<br>\n",
    "(8, 36, 14)<br>\n",
    "(8, 51, 26)"
   ]
  },
  {
   "cell_type": "markdown",
   "metadata": {},
   "source": [
    "Parte 4: utilice el programa trange para generar un archivo \"Tiempo_vs_Temperatura.txt\". Cada línea del archivo debe contener un tiempo en formato hh:mm:ss y una temperatura (aleatoria) entre 10 y 25 graods. Los tiempos deben ser en orden ascendente con un intervalo de 90 segundos, empezando desde 06:00:00 y terminando a las 23:00:00. No es necesario reescribir la función trange; solo compilarla antes para poderla usar aquí."
   ]
  },
  {
   "cell_type": "code",
   "execution_count": 3,
   "metadata": {
    "collapsed": true
   },
   "outputs": [],
   "source": [
    "\n",
    "import random\n",
    "\n",
    "def trange(start, stop, step):\n",
    "\n",
    "\n",
    "\n",
    "    tsum = start \n",
    "    lsum = start \n",
    "    \n",
    "\n",
    "    subt    = [0,0,0]\n",
    "    stopl    = list(stop)\n",
    "    stepl    = list(step)\n",
    "    subt[0] = stopl[0] - stepl[0]\n",
    "    subt[1] = stopl[1] - stepl[1]\n",
    "    subt[2] = stopl[2] - stepl[2]\n",
    "    restat   = tuple(subt) \n",
    "\n",
    "    while tsum<=restat: \n",
    "        stepl  = list(step)   \n",
    "        lsum = [lsum, stepl]\n",
    "        lsum = [sum(i) for i in zip(*lsum)]  \n",
    "        if lsum[2] == 60: \n",
    "            lsum[1] = lsum[1] + 1\n",
    "            lsum[2] = 0           \n",
    "        elif lsum[2]>60: \n",
    "            lsum[2] = lsum[2] - 60\n",
    "            lsum[1] = lsum[1] + 1\n",
    "        if lsum[1] == 60:\n",
    "            lsum[0] = lsum[0] + 1\n",
    "            lsum[1] = 0      \n",
    "        elif lsum[1] >60:\n",
    "            lsum[1] = -60 + lsum[1]\n",
    "            lsum[0] = lsum[0] + 1\n",
    "        if lsum[0] >= 23: \n",
    "            lsum[0] == 0 \n",
    "            lsum[1] == 0\n",
    "            lsum[2] == 0\n",
    "\n",
    "        tsum = tuple(lsum) \n",
    "        yield(tsum)\n",
    "        \n",
    "#se manda a imprimir los valores con los nuevos parámetros start, stop, step. \n",
    "for timer in trange((6,0,0),(22,58,30),(0, 1 ,30)):\n",
    "    outStr = '{:02d}:{:02d}:{:02d} {} {}' \n",
    "    salida = (outStr.format(timer[0],timer[1],timer[2], \"    \", round(random.uniform(10,25),1)))\n",
    "    \n",
    "    \"\"\"\n",
    "    Para crear el archivo.txt con los valores se manada el valor en print\n",
    "    \n",
    "    \"\"\"    \n",
    "    archivo = open(\"Tiempo_vs_Temperatura.txt\", \"a\")\n",
    "    archivo.write(\"\\n\")\n",
    "    archivo.writelines(salida)\n",
    "    archivo.close()\n",
    "\n",
    "\n",
    "\n",
    "\n"
   ]
  },
  {
   "cell_type": "markdown",
   "metadata": {},
   "source": [
    "El archivo debe contener algo parecido a esto (la temperatura es aleatoria, pero los tiempos deben ser iguales a estos):\n",
    "\n",
    "06:00:00 14.0\n",
    "\n",
    "06:01:30 10.5\n",
    "\n",
    "06:03:00 21.0\n",
    "\n",
    "...\n",
    "\n",
    "22:57:00 12.1\n",
    "\n",
    "22:58:30 21.5\n",
    "\n",
    "##end of file"
   ]
  },
  {
   "cell_type": "raw",
   "metadata": {},
   "source": [
    "Parte 5: escribe un generador con el nombre \"random_ones_and_zeros\", cuyo resultado sea un bitstream, es decir, una serie de ceros y uno sen sucesión. La probabilidad p de dar como resultado 1 está definida en la variable p. El generador iniciarizara el valor de p a 0.5. Es decir, ceros y unos aparecerán con la misma probabilidad."
   ]
  },
  {
   "cell_type": "code",
   "execution_count": 29,
   "metadata": {},
   "outputs": [
    {
     "name": "stdout",
     "output_type": "stream",
     "text": [
      "\n",
      " probability: 0.2\n",
      "0 0 0 0 0 1 0 0 0 0 0 0 1 0 0 \n",
      " probability: 0.5\n",
      "0 0 1 1 1 1 1 0 1 1 1 1 0 0 0 \n",
      " probability: 0.8\n",
      "1 1 0 0 0 1 0 0 0 0 0 0 1 1 1 "
     ]
    }
   ],
   "source": [
    "import random\n",
    "\n",
    "def random_ones_and_zeros():\n",
    "    ### escribe aquí el codigo, recuerda que p=0.5\n",
    "    p = 0.5\n",
    "    while p!=0: \n",
    "        number = random.randint(0,100)\n",
    "\n",
    "        if number < p*100:             \n",
    "            bit = yield(1)\n",
    "        else: \n",
    "            bit = yield(0)\n",
    "    ###\n",
    "    \n",
    "x = random_ones_and_zeros()\n",
    "next (x)    \n",
    "for p in [0.2,0.5,0.8]:  \n",
    "    x.send(p)\n",
    "    print(\"\\n probability: \"+str(p))\n",
    "    for i in range(15):\n",
    "        print(next(x), end=\" \")\n"
   ]
  },
  {
   "cell_type": "code",
   "execution_count": null,
   "metadata": {
    "collapsed": true
   },
   "outputs": [],
   "source": []
  },
  {
   "cell_type": "markdown",
   "metadata": {},
   "source": [
    "La salida esperada debe ser similar a esta:<br>\n",
    "probability: 0.2<br>\n",
    "0 0 0 0 0 0 1 0 0 0 0 0 0 1 0 <br>\n",
    "probability: 0.5<br> \n",
    "1 0 0 1 0 0 0 1 0 1 1 0 0 0 1<br>\n",
    "probability: 0.8<br>\n",
    "1 1 1 1 1 1 1 1 1 1 0 0 1 1 1 \n"
   ]
  },
  {
   "cell_type": "code",
   "execution_count": null,
   "metadata": {
    "collapsed": true
   },
   "outputs": [],
   "source": []
  }
 ],
 "metadata": {
  "kernelspec": {
   "display_name": "Python 3",
   "language": "python",
   "name": "python3"
  },
  "language_info": {
   "codemirror_mode": {
    "name": "ipython",
    "version": 3
   },
   "file_extension": ".py",
   "mimetype": "text/x-python",
   "name": "python",
   "nbconvert_exporter": "python",
   "pygments_lexer": "ipython3",
   "version": "3.6.1"
  }
 },
 "nbformat": 4,
 "nbformat_minor": 2
}
